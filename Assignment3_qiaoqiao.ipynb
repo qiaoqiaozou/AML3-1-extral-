{
 "cells": [
  {
   "cell_type": "markdown",
   "id": "cf93bd22-8daf-41b4-ac10-036567f58361",
   "metadata": {},
   "source": [
    "### Name: Qiaoqiao Zou ###"
   ]
  },
  {
   "cell_type": "markdown",
   "id": "a8898994",
   "metadata": {
    "id": "aWs-qNAh8uLr",
    "papermill": {
     "duration": 0.009982,
     "end_time": "2023-03-31T15:58:58.773606",
     "exception": false,
     "start_time": "2023-03-31T15:58:58.763624",
     "status": "completed"
    },
    "tags": []
   },
   "source": [
    "# **Introduction**\n",
    "\n",
    "Pumpkin seeds are frequently consumed as confection worldwide because of their adequate amount of protein, fat, carbohydrate, and mineral contents. This study was carried out on the two most important and quality types of pumpkin seeds, ‘‘Urgup_Sivrisi’’ and ‘‘Cercevelik’’, generally grown in Urgup and Karacaoren regions in Turkey. However, morphological measurements of 2500 pumpkin seeds of both varieties were made possible by using the gray and binary forms of threshold techniques. PCA and KernelPCA are used here to find the best model to classify pumpkin seeds."
   ]
  },
  {
   "cell_type": "markdown",
   "id": "4072360a",
   "metadata": {},
   "source": [
    "This file is checked and bit modified version of https://www.kaggle.com/code/preciousosas/pumpkin-seed-classification\n",
    "utilizing the Pumpkin seeds dataset https://www.kaggle.com/datasets/muratkokludataset/pumpkin-seeds-dataset/data"
   ]
  },
  {
   "cell_type": "code",
   "execution_count": 1,
   "id": "9dce8b6d",
   "metadata": {
    "id": "kR62F0Frbw-e",
    "papermill": {
     "duration": 2.066936,
     "end_time": "2023-03-31T15:59:00.850258",
     "exception": false,
     "start_time": "2023-03-31T15:58:58.783322",
     "status": "completed"
    },
    "tags": []
   },
   "outputs": [],
   "source": [
    "#import neccessary libary\n",
    "import pandas as pd\n",
    "import numpy as np\n",
    "import matplotlib.pyplot as plt\n",
    "import seaborn as sns\n",
    "\n",
    "from sklearn.svm import SVC\n",
    "from sklearn.pipeline import Pipeline\n",
    "from sklearn.decomposition import PCA\n",
    "from sklearn.decomposition import KernelPCA\n",
    "from sklearn.preprocessing import StandardScaler\n",
    "from sklearn.model_selection import GridSearchCV,train_test_split\n",
    "from sklearn.metrics import classification_report, confusion_matrix,ConfusionMatrixDisplay"
   ]
  },
  {
   "cell_type": "code",
   "execution_count": 2,
   "id": "7b1072fa-51ad-4076-a798-97c1d0b48e2c",
   "metadata": {},
   "outputs": [],
   "source": [
    "import warnings\n",
    "warnings.filterwarnings(\"ignore\", category=RuntimeWarning)"
   ]
  },
  {
   "cell_type": "code",
   "execution_count": 3,
   "id": "7ddaac57",
   "metadata": {
    "papermill": {
     "duration": 1.213217,
     "end_time": "2023-03-31T15:59:02.151140",
     "exception": false,
     "start_time": "2023-03-31T15:59:00.937923",
     "status": "completed"
    },
    "tags": []
   },
   "outputs": [
    {
     "data": {
      "text/html": [
       "<div>\n",
       "<style scoped>\n",
       "    .dataframe tbody tr th:only-of-type {\n",
       "        vertical-align: middle;\n",
       "    }\n",
       "\n",
       "    .dataframe tbody tr th {\n",
       "        vertical-align: top;\n",
       "    }\n",
       "\n",
       "    .dataframe thead th {\n",
       "        text-align: right;\n",
       "    }\n",
       "</style>\n",
       "<table border=\"1\" class=\"dataframe\">\n",
       "  <thead>\n",
       "    <tr style=\"text-align: right;\">\n",
       "      <th></th>\n",
       "      <th>Area</th>\n",
       "      <th>Perimeter</th>\n",
       "      <th>Major_Axis_Length</th>\n",
       "      <th>Minor_Axis_Length</th>\n",
       "      <th>Convex_Area</th>\n",
       "      <th>Equiv_Diameter</th>\n",
       "      <th>Eccentricity</th>\n",
       "      <th>Solidity</th>\n",
       "      <th>Extent</th>\n",
       "      <th>Roundness</th>\n",
       "      <th>Aspect_Ration</th>\n",
       "      <th>Compactness</th>\n",
       "      <th>Class</th>\n",
       "    </tr>\n",
       "  </thead>\n",
       "  <tbody>\n",
       "    <tr>\n",
       "      <th>0</th>\n",
       "      <td>56276</td>\n",
       "      <td>888.242</td>\n",
       "      <td>326.1485</td>\n",
       "      <td>220.2388</td>\n",
       "      <td>56831</td>\n",
       "      <td>267.6805</td>\n",
       "      <td>0.7376</td>\n",
       "      <td>0.9902</td>\n",
       "      <td>0.7453</td>\n",
       "      <td>0.8963</td>\n",
       "      <td>1.4809</td>\n",
       "      <td>0.8207</td>\n",
       "      <td>Çerçevelik</td>\n",
       "    </tr>\n",
       "    <tr>\n",
       "      <th>1</th>\n",
       "      <td>76631</td>\n",
       "      <td>1068.146</td>\n",
       "      <td>417.1932</td>\n",
       "      <td>234.2289</td>\n",
       "      <td>77280</td>\n",
       "      <td>312.3614</td>\n",
       "      <td>0.8275</td>\n",
       "      <td>0.9916</td>\n",
       "      <td>0.7151</td>\n",
       "      <td>0.8440</td>\n",
       "      <td>1.7811</td>\n",
       "      <td>0.7487</td>\n",
       "      <td>Çerçevelik</td>\n",
       "    </tr>\n",
       "    <tr>\n",
       "      <th>2</th>\n",
       "      <td>71623</td>\n",
       "      <td>1082.987</td>\n",
       "      <td>435.8328</td>\n",
       "      <td>211.0457</td>\n",
       "      <td>72663</td>\n",
       "      <td>301.9822</td>\n",
       "      <td>0.8749</td>\n",
       "      <td>0.9857</td>\n",
       "      <td>0.7400</td>\n",
       "      <td>0.7674</td>\n",
       "      <td>2.0651</td>\n",
       "      <td>0.6929</td>\n",
       "      <td>Çerçevelik</td>\n",
       "    </tr>\n",
       "    <tr>\n",
       "      <th>3</th>\n",
       "      <td>66458</td>\n",
       "      <td>992.051</td>\n",
       "      <td>381.5638</td>\n",
       "      <td>222.5322</td>\n",
       "      <td>67118</td>\n",
       "      <td>290.8899</td>\n",
       "      <td>0.8123</td>\n",
       "      <td>0.9902</td>\n",
       "      <td>0.7396</td>\n",
       "      <td>0.8486</td>\n",
       "      <td>1.7146</td>\n",
       "      <td>0.7624</td>\n",
       "      <td>Çerçevelik</td>\n",
       "    </tr>\n",
       "    <tr>\n",
       "      <th>4</th>\n",
       "      <td>66107</td>\n",
       "      <td>998.146</td>\n",
       "      <td>383.8883</td>\n",
       "      <td>220.4545</td>\n",
       "      <td>67117</td>\n",
       "      <td>290.1207</td>\n",
       "      <td>0.8187</td>\n",
       "      <td>0.9850</td>\n",
       "      <td>0.6752</td>\n",
       "      <td>0.8338</td>\n",
       "      <td>1.7413</td>\n",
       "      <td>0.7557</td>\n",
       "      <td>Çerçevelik</td>\n",
       "    </tr>\n",
       "  </tbody>\n",
       "</table>\n",
       "</div>"
      ],
      "text/plain": [
       "    Area  Perimeter  Major_Axis_Length  Minor_Axis_Length  Convex_Area  \\\n",
       "0  56276    888.242           326.1485           220.2388        56831   \n",
       "1  76631   1068.146           417.1932           234.2289        77280   \n",
       "2  71623   1082.987           435.8328           211.0457        72663   \n",
       "3  66458    992.051           381.5638           222.5322        67118   \n",
       "4  66107    998.146           383.8883           220.4545        67117   \n",
       "\n",
       "   Equiv_Diameter  Eccentricity  Solidity  Extent  Roundness  Aspect_Ration  \\\n",
       "0        267.6805        0.7376    0.9902  0.7453     0.8963         1.4809   \n",
       "1        312.3614        0.8275    0.9916  0.7151     0.8440         1.7811   \n",
       "2        301.9822        0.8749    0.9857  0.7400     0.7674         2.0651   \n",
       "3        290.8899        0.8123    0.9902  0.7396     0.8486         1.7146   \n",
       "4        290.1207        0.8187    0.9850  0.6752     0.8338         1.7413   \n",
       "\n",
       "   Compactness       Class  \n",
       "0       0.8207  Çerçevelik  \n",
       "1       0.7487  Çerçevelik  \n",
       "2       0.6929  Çerçevelik  \n",
       "3       0.7624  Çerçevelik  \n",
       "4       0.7557  Çerçevelik  "
      ]
     },
     "execution_count": 3,
     "metadata": {},
     "output_type": "execute_result"
    }
   ],
   "source": [
    "seed = pd.read_excel('Pumpkin_Seeds_Dataset.xlsx')\n",
    "seed.head()"
   ]
  },
  {
   "cell_type": "code",
   "execution_count": 4,
   "id": "2c3dc398",
   "metadata": {
    "id": "z5PE5Yq0fsmT",
    "outputId": "21342c9e-0f5a-465f-9f57-c9483be3eddf",
    "papermill": {
     "duration": 0.044669,
     "end_time": "2023-03-31T15:59:02.205276",
     "exception": false,
     "start_time": "2023-03-31T15:59:02.160607",
     "status": "completed"
    },
    "tags": []
   },
   "outputs": [
    {
     "name": "stdout",
     "output_type": "stream",
     "text": [
      "<class 'pandas.core.frame.DataFrame'>\n",
      "RangeIndex: 2500 entries, 0 to 2499\n",
      "Data columns (total 13 columns):\n",
      " #   Column             Non-Null Count  Dtype  \n",
      "---  ------             --------------  -----  \n",
      " 0   Area               2500 non-null   int64  \n",
      " 1   Perimeter          2500 non-null   float64\n",
      " 2   Major_Axis_Length  2500 non-null   float64\n",
      " 3   Minor_Axis_Length  2500 non-null   float64\n",
      " 4   Convex_Area        2500 non-null   int64  \n",
      " 5   Equiv_Diameter     2500 non-null   float64\n",
      " 6   Eccentricity       2500 non-null   float64\n",
      " 7   Solidity           2500 non-null   float64\n",
      " 8   Extent             2500 non-null   float64\n",
      " 9   Roundness          2500 non-null   float64\n",
      " 10  Aspect_Ration      2500 non-null   float64\n",
      " 11  Compactness        2500 non-null   float64\n",
      " 12  Class              2500 non-null   object \n",
      "dtypes: float64(10), int64(2), object(1)\n",
      "memory usage: 254.0+ KB\n"
     ]
    }
   ],
   "source": [
    "#check the data information to know if there is any null value\n",
    "seed.info()"
   ]
  },
  {
   "cell_type": "code",
   "execution_count": 5,
   "id": "d823cf15",
   "metadata": {
    "id": "t2EvsiukvwXm",
    "outputId": "9d52b84e-36cf-4fa3-bf5e-bf4ab6fd1f06",
    "papermill": {
     "duration": 0.026374,
     "end_time": "2023-03-31T15:59:02.240793",
     "exception": false,
     "start_time": "2023-03-31T15:59:02.214419",
     "status": "completed"
    },
    "tags": []
   },
   "outputs": [
    {
     "data": {
      "text/plain": [
       "Area                 0\n",
       "Perimeter            0\n",
       "Major_Axis_Length    0\n",
       "Minor_Axis_Length    0\n",
       "Convex_Area          0\n",
       "Equiv_Diameter       0\n",
       "Eccentricity         0\n",
       "Solidity             0\n",
       "Extent               0\n",
       "Roundness            0\n",
       "Aspect_Ration        0\n",
       "Compactness          0\n",
       "Class                0\n",
       "dtype: int64"
      ]
     },
     "execution_count": 5,
     "metadata": {},
     "output_type": "execute_result"
    }
   ],
   "source": [
    "seed.isnull().sum()"
   ]
  },
  {
   "cell_type": "code",
   "execution_count": 6,
   "id": "598514e6",
   "metadata": {},
   "outputs": [
    {
     "data": {
      "text/plain": [
       "0          Çerçevelik\n",
       "1          Çerçevelik\n",
       "2          Çerçevelik\n",
       "3          Çerçevelik\n",
       "4          Çerçevelik\n",
       "            ...      \n",
       "2495    Ürgüp Sivrisi\n",
       "2496    Ürgüp Sivrisi\n",
       "2497    Ürgüp Sivrisi\n",
       "2498    Ürgüp Sivrisi\n",
       "2499    Ürgüp Sivrisi\n",
       "Name: Class, Length: 2500, dtype: object"
      ]
     },
     "execution_count": 6,
     "metadata": {},
     "output_type": "execute_result"
    }
   ],
   "source": [
    "seed.iloc[:,-1]"
   ]
  },
  {
   "cell_type": "code",
   "execution_count": 7,
   "id": "de9cb98c",
   "metadata": {
    "id": "6kosf0d6uVmM",
    "outputId": "0e526792-296c-4730-d7ec-665af2c59db5",
    "papermill": {
     "duration": 0.02522,
     "end_time": "2023-03-31T15:59:03.613683",
     "exception": false,
     "start_time": "2023-03-31T15:59:03.588463",
     "status": "completed"
    },
    "tags": []
   },
   "outputs": [
    {
     "data": {
      "text/plain": [
       "Index(['Area', 'Perimeter', 'Major_Axis_Length', 'Minor_Axis_Length',\n",
       "       'Convex_Area', 'Equiv_Diameter', 'Eccentricity', 'Solidity', 'Extent',\n",
       "       'Roundness', 'Aspect_Ration', 'Compactness', 'Class'],\n",
       "      dtype='object')"
      ]
     },
     "execution_count": 7,
     "metadata": {},
     "output_type": "execute_result"
    }
   ],
   "source": [
    "#check out the column names\n",
    "seed.columns"
   ]
  },
  {
   "cell_type": "code",
   "execution_count": 8,
   "id": "8a5a9843",
   "metadata": {
    "id": "m_uR4McnuMEa",
    "papermill": {
     "duration": 0.034875,
     "end_time": "2023-03-31T15:59:05.942098",
     "exception": false,
     "start_time": "2023-03-31T15:59:05.907223",
     "status": "completed"
    },
    "tags": []
   },
   "outputs": [],
   "source": [
    "#set the x,y values\n",
    "x = seed.drop('Class',axis=1)\n",
    "y = seed['Class']"
   ]
  },
  {
   "cell_type": "code",
   "execution_count": 9,
   "id": "9aaf23fc",
   "metadata": {},
   "outputs": [
    {
     "data": {
      "text/plain": [
       "(2500, 12)"
      ]
     },
     "execution_count": 9,
     "metadata": {},
     "output_type": "execute_result"
    }
   ],
   "source": [
    "# So all 12 features in x\n",
    "x.shape"
   ]
  },
  {
   "cell_type": "code",
   "execution_count": 10,
   "id": "62b46f9d-1b12-44fe-98d3-9198d2de4ff8",
   "metadata": {},
   "outputs": [
    {
     "data": {
      "text/plain": [
       "array(['Çerçevelik', 'Ürgüp Sivrisi'], dtype=object)"
      ]
     },
     "execution_count": 10,
     "metadata": {},
     "output_type": "execute_result"
    }
   ],
   "source": [
    "#Unique values in the class column\n",
    "seed['Class'].unique()"
   ]
  },
  {
   "cell_type": "code",
   "execution_count": 11,
   "id": "3f3982eb",
   "metadata": {
    "id": "6VsA8uDk2G5o",
    "outputId": "c3a6a186-0ba9-4aa0-d0d3-d56fe780237b",
    "papermill": {
     "duration": 0.044582,
     "end_time": "2023-03-31T15:59:06.010098",
     "exception": false,
     "start_time": "2023-03-31T15:59:05.965516",
     "status": "completed"
    },
    "tags": []
   },
   "outputs": [
    {
     "name": "stdout",
     "output_type": "stream",
     "text": [
      "(1750, 12) (1750,)\n",
      "(375, 12) (375,)\n",
      "(375, 12) (375,)\n"
     ]
    }
   ],
   "source": [
    "# Divide the original data into 3 parts\n",
    "X_train, X_temp, y_train, y_temp = train_test_split(x, y, test_size=0.3, random_state=42)\n",
    "X_val, X_test, y_val, y_test = train_test_split(X_temp, y_temp, test_size=0.5, random_state=42)\n",
    "print(X_train.shape,y_train.shape)\n",
    "print(X_val.shape,y_val.shape)\n",
    "print(X_test.shape,y_test.shape)"
   ]
  },
  {
   "cell_type": "code",
   "execution_count": 12,
   "id": "78893608-642c-49b9-9cec-cc3b5273b54b",
   "metadata": {},
   "outputs": [
    {
     "name": "stdout",
     "output_type": "stream",
     "text": [
      "Best Parameters:\n",
      "  clf__C: 0.1\n",
      "  clf__degree: 2\n",
      "  clf__gamma: scale\n",
      "  clf__kernel: rbf\n",
      "  pca__n_components: 5\n",
      "\n",
      "Validation Accuracy (CV average): 0.8897\n",
      "Validation Accuracy (on X_val): 0.8693\n"
     ]
    }
   ],
   "source": [
    "# Build Pipeline\n",
    "pipe_pca = Pipeline([\n",
    "    ('scaler', StandardScaler()),\n",
    "    ('pca', PCA()),\n",
    "    ('clf', SVC())\n",
    "])\n",
    "\n",
    "# Parameter grid: including n_components of PCA and kernel, C, gamma of SVC\n",
    "param_grid_pca = {\n",
    "    'pca__n_components': [3, 5, 7, 0.95],  \n",
    "    'clf__kernel': ['linear', 'rbf', 'poly'],\n",
    "    'clf__C': [0.1, 1, 10],\n",
    "    'clf__gamma': ['scale', 0.01, 0.1],\n",
    "    'clf__degree': [2, 3] # Only valid for poly, but GridSearch will automatically skip invalid combinations\n",
    "}\n",
    "\n",
    "# GridSearchCV\n",
    "grid_pca = GridSearchCV(pipe_pca, param_grid_pca, cv=5, scoring='accuracy', n_jobs=-1)\n",
    "grid_pca.fit(X_train, y_train)\n",
    "\n",
    "# Output the best parameter combination found by GridSearch\n",
    "print(\"Best Parameters:\")\n",
    "for param, value in grid_pca.best_params_.items():\n",
    "    print(f\"  {param}: {value}\")\n",
    "\n",
    "# Output validation set cross validation accuracy\n",
    "print(f\"\\nValidation Accuracy (CV average): {grid_pca.best_score_:.4f}\")\n",
    "\n",
    "# Use Validation data to evaluate the final model effect (for comparison with other models)\n",
    "val_acc_pca = grid_pca.best_estimator_.score(X_val, y_val)\n",
    "print(f\"Validation Accuracy (on X_val): {val_acc_pca:.4f}\")\n"
   ]
  },
  {
   "cell_type": "code",
   "execution_count": 13,
   "id": "176ecf54-ab4d-4d9c-a69c-9c350611a89f",
   "metadata": {},
   "outputs": [
    {
     "name": "stdout",
     "output_type": "stream",
     "text": [
      "Best Parameters: {'clf__C': 10, 'clf__gamma': 0.1, 'clf__kernel': 'rbf', 'kpca__gamma': 0.1, 'kpca__kernel': 'sigmoid', 'kpca__n_components': 50}\n",
      "Validation Accuracy (CV average): 0.8914285714285715\n",
      "Validation Accuracy: 0.8826666666666667\n"
     ]
    }
   ],
   "source": [
    "# Build Pipeline\n",
    "pipeline_kpca = Pipeline([\n",
    "    (\"scaler\", StandardScaler()),\n",
    "    (\"kpca\", KernelPCA(fit_inverse_transform=False, eigen_solver=\"auto\")),\n",
    "    (\"clf\", SVC())\n",
    "])\n",
    "\n",
    "# Set up the parameter grid\n",
    "param_grid_kpca = [\n",
    "    {\n",
    "        'kpca__n_components': [30, 40, 50],\n",
    "        'kpca__kernel': ['rbf', 'sigmoid'],\n",
    "        'kpca__gamma': [0.01, 0.1, 1],\n",
    "        'clf__kernel': ['rbf'],\n",
    "        'clf__C': [0.1, 1, 10],\n",
    "        'clf__gamma': ['scale', 0.01, 0.1]\n",
    "    },\n",
    "    {\n",
    "        'kpca__n_components': [30, 40, 50],\n",
    "        'kpca__kernel': ['poly'],\n",
    "        'kpca__gamma': [0.01, 0.1],\n",
    "        'kpca__degree': [2, 3],\n",
    "        'clf__kernel': ['poly'],\n",
    "        'clf__C': [0.1, 1, 10],\n",
    "        'clf__gamma': ['scale', 0.01, 0.1],\n",
    "        'clf__degree': [2, 3]\n",
    "    },\n",
    "    {\n",
    "        'kpca__n_components': [30, 40, 50],\n",
    "        'kpca__kernel': ['rbf'],  # Still using rbf kernelPCA, but linear SVM\n",
    "        'kpca__gamma': [0.01, 0.1, 1],\n",
    "        'clf__kernel': ['linear'],\n",
    "        'clf__C': [0.1, 1, 10]\n",
    "    }\n",
    "]\n",
    "\n",
    "# GridSearchCV training\n",
    "grid_kpca = GridSearchCV(pipeline_kpca, param_grid_kpca, cv=5, scoring='accuracy', n_jobs=-1)\n",
    "grid_kpca.fit(X_train, y_train)\n",
    "\n",
    "# Best Model Evaluation\n",
    "print(\"Best Parameters:\", grid_kpca.best_params_)\n",
    "print(\"Validation Accuracy (CV average):\", grid_kpca.best_score_)\n",
    "\n",
    "# Validation set accuracy\n",
    "val_acc_kpca = grid_kpca.best_estimator_.score(X_val, y_val)\n",
    "print(\"Validation Accuracy:\", val_acc_kpca)"
   ]
  },
  {
   "cell_type": "code",
   "execution_count": 14,
   "id": "4ad430bf-55bf-40f1-80f1-ac0f0985d7d5",
   "metadata": {},
   "outputs": [
    {
     "name": "stdout",
     "output_type": "stream",
     "text": [
      "Fine-tuned Best Parameters:\n",
      "  clf__C: 10\n",
      "  clf__gamma: 0.1\n",
      "  clf__kernel: rbf\n",
      "  kpca__gamma: 0.1\n",
      "  kpca__kernel: sigmoid\n",
      "  kpca__n_components: 50\n",
      "\n",
      "Validation Accuracy (CV average): 0.8914\n",
      "Validation Accuracy (on X_val): 0.8827\n"
     ]
    }
   ],
   "source": [
    "# Building a Pipeline\n",
    "pipeline_finetune = Pipeline([\n",
    "    (\"scaler\", StandardScaler()),\n",
    "    (\"kpca\", KernelPCA(fit_inverse_transform=False, eigen_solver=\"auto\")),\n",
    "    (\"clf\", SVC())\n",
    "])\n",
    "\n",
    "# Fine-tune parameter ranges (fine-tune ranges based on previously found optimal parameters)\n",
    "param_grid_finetune = [\n",
    "    {\n",
    "        'kpca__n_components': [50], # The best kpca__n_components\n",
    "        'kpca__kernel': ['sigmoid'],  # The best performing kernel\n",
    "        'kpca__gamma': [0.05, 0.1, 0.2],  # Fine-tune around the previous optimal gamma\n",
    "        'clf__kernel': ['rbf'],  # Optimal clf kernel\n",
    "        'clf__C': [5, 10, 20],  # Fine-tune around C=10\n",
    "        'clf__gamma': [0.05, 0.1, 0.2]  # Also fine-tune gamma\n",
    "    }\n",
    "]\n",
    "\n",
    "# Execute Fine-tuning GridSearch\n",
    "grid_finetune = GridSearchCV(pipeline_finetune, param_grid_finetune, cv=5, scoring='accuracy', n_jobs=-1)\n",
    "grid_finetune.fit(X_train, y_train)\n",
    "\n",
    "# Output the best result\n",
    "print(\"Fine-tuned Best Parameters:\")\n",
    "for k, v in grid_finetune.best_params_.items():\n",
    "    print(f\"  {k}: {v}\")\n",
    "\n",
    "print(f\"\\nValidation Accuracy (CV average): {grid_finetune.best_score_:.4f}\")\n",
    "\n",
    "val_acc_finetune = grid_finetune.best_estimator_.score(X_val, y_val)\n",
    "print(f\"Validation Accuracy (on X_val): {val_acc_finetune:.4f}\")"
   ]
  },
  {
   "cell_type": "code",
   "execution_count": 15,
   "id": "e1e7b6bf-670e-4c24-b229-e439db83c1ae",
   "metadata": {},
   "outputs": [
    {
     "name": "stdout",
     "output_type": "stream",
     "text": [
      "\n",
      "Selected Model: KernelPCA + SVC\n",
      "Best Parameters: {'clf__C': 10, 'clf__gamma': 0.1, 'clf__kernel': 'rbf', 'kpca__gamma': 0.1, 'kpca__kernel': 'sigmoid', 'kpca__n_components': 50}\n",
      "Validation Accuracy: 0.8827\n",
      "Test Accuracy: 0.8667\n"
     ]
    }
   ],
   "source": [
    "# Compare and select the best model\n",
    "if val_acc_pca >= val_acc_finetune:\n",
    "    best_model = grid_pca.best_estimator_\n",
    "    model_name = \"PCA + SVC\"\n",
    "    best_params = grid_pca.best_params_\n",
    "    best_val_score = val_acc_pca\n",
    "else:\n",
    "    best_model = grid_finetune.best_estimator_\n",
    "    model_name = \"KernelPCA + SVC\"\n",
    "    best_params = grid_finetune.best_params_\n",
    "    best_val_score = val_acc_finetune\n",
    "\n",
    "# Use the test set for final evaluation\n",
    "test_acc = best_model.score(X_test, y_test)\n",
    "\n",
    "print(f\"\\nSelected Model: {model_name}\")\n",
    "print(f\"Best Parameters: {best_params}\")\n",
    "print(f\"Validation Accuracy: {best_val_score:.4f}\")\n",
    "print(f\"Test Accuracy: {test_acc:.4f}\")"
   ]
  },
  {
   "cell_type": "code",
   "execution_count": 16,
   "id": "bc1eebd2-00a2-4997-a5fd-b51f91f1f382",
   "metadata": {},
   "outputs": [
    {
     "data": {
      "image/png": "[encoded data removed]",
      "text/plain": [
       "<Figure size 640x480 with 2 Axes>"
      ]
     },
     "metadata": {},
     "output_type": "display_data"
    }
   ],
   "source": [
    "y_pred = best_model.predict(X_test)\n",
    "cm = confusion_matrix(y_test, y_pred)\n",
    "disp = ConfusionMatrixDisplay(confusion_matrix=cm, display_labels=best_model.classes_)\n",
    "\n",
    "disp.plot(cmap='viridis')\n",
    "plt.title(\"Confusion Matrix on Test Data\")\n",
    "plt.show()"
   ]
  }
 ],
 "metadata": {
  "kernelspec": {
   "display_name": "Python 3 (ipykernel)",
   "language": "python",
   "name": "python3"
  },
  "language_info": {
   "codemirror_mode": {
    "name": "ipython",
    "version": 3
   },
   "file_extension": ".py",
   "mimetype": "text/x-python",
   "name": "python",
   "nbconvert_exporter": "python",
   "pygments_lexer": "ipython3",
   "version": "3.12.7"
  },
  "papermill": {
   "default_parameters": {},
   "duration": 563.837387,
   "end_time": "2023-03-31T16:08:08.500958",
   "environment_variables": {},
   "exception": null,
   "input_path": "__notebook__.ipynb",
   "output_path": "__notebook__.ipynb",
   "parameters": {},
   "start_time": "2023-03-31T15:58:44.663571",
   "version": "2.4.0"
  }
 },
 "nbformat": 4,
 "nbformat_minor": 5
}
