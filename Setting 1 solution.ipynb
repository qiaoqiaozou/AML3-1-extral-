{
 "cells": [
  {
   "cell_type": "markdown",
   "id": "d60b6b41-e553-4754-bc22-89ed0ac4b462",
   "metadata": {},
   "source": [
    "### Name: Qiaoqiao Zou ###"
   ]
  },
  {
   "cell_type": "markdown",
   "id": "e182599f-8be8-4ef1-b8a0-2151c52d52f5",
   "metadata": {},
   "source": [
    "#----------------------------------Setting 1------------------------------#"
   ]
  },
  {
   "cell_type": "code",
   "execution_count": 1,
   "id": "43c96873-68d5-4ed0-a512-7fd6295bda0a",
   "metadata": {},
   "outputs": [],
   "source": [
    "import numpy as np\n",
    "import pandas as pd\n",
    "import matplotlib.pyplot as plt\n",
    "\n",
    "from sklearn.datasets import load_digits\n",
    "from sklearn.preprocessing import StandardScaler\n",
    "from sklearn.linear_model import LogisticRegression\n",
    "from sklearn.pipeline import Pipeline\n",
    "from sklearn.svm import SVC\n",
    "from sklearn.ensemble import RandomForestClassifier\n",
    "from sklearn.decomposition import PCA\n",
    "from sklearn.metrics import accuracy_score\n",
    "from sklearn.model_selection import GridSearchCV,train_test_split"
   ]
  },
  {
   "cell_type": "code",
   "execution_count": 2,
   "id": "93c2d319-1cbd-4bd1-ac72-e5d66167ae80",
   "metadata": {},
   "outputs": [],
   "source": [
    "# Load the digits dataset\n",
    "digits = load_digits()\n",
    "X = digits.data        # Features (1797 samples, 64 features each)\n",
    "y = digits.target      # Labels (digits 0 through 9)\n",
    "\n",
    "# Split into training and test sets (e.g., 70% train, 30% test)\n",
    "X_train, X_test, y_train, y_test = train_test_split(X, y, test_size=0.3, random_state=42, stratify=y)"
   ]
  },
  {
   "cell_type": "markdown",
   "id": "2f382f75-928f-4a8d-8d9f-b2d66d3e5131",
   "metadata": {},
   "source": [
    "## Find the best selection and number of feartures ##"
   ]
  },
  {
   "cell_type": "code",
   "execution_count": 3,
   "id": "8ad57c4f-c2f2-43ef-8271-f3089443278b",
   "metadata": {},
   "outputs": [],
   "source": [
    "top_k = 25"
   ]
  },
  {
   "cell_type": "code",
   "execution_count": 4,
   "id": "df813535-7929-4485-9c0a-4b6540a65643",
   "metadata": {},
   "outputs": [],
   "source": [
    "# ---------- Random Forest Feature Selection ----------\n",
    "def rf_feature_selection(X_train, y_train, k):\n",
    "    rf = RandomForestClassifier(n_estimators=100, random_state=42)\n",
    "    rf.fit(X_train, y_train)\n",
    "    importances = rf.feature_importances_\n",
    "    indices = np.argsort(importances)[::-1][:k]\n",
    "    return indices, importances\n",
    "\n",
    "rf_indices, rf_importances = rf_feature_selection(X_train, y_train, top_k)\n",
    "X_train_rf = X_train[:, rf_indices]\n",
    "X_test_rf = X_test[:, rf_indices]"
   ]
  },
  {
   "cell_type": "code",
   "execution_count": 5,
   "id": "0eba026f-5d71-4123-908d-950b2b11292c",
   "metadata": {},
   "outputs": [],
   "source": [
    "# ---------- PCA Feature Reduction ----------\n",
    "scaler = StandardScaler()\n",
    "X_train_scaled = scaler.fit_transform(X_train)\n",
    "X_test_scaled = scaler.transform(X_test)\n",
    "\n",
    "pca = PCA(n_components=top_k)\n",
    "X_train_pca = pca.fit_transform(X_train_scaled)\n",
    "X_test_pca = pca.transform(X_test_scaled)"
   ]
  },
  {
   "cell_type": "code",
   "execution_count": 6,
   "id": "a6854b22-ca74-4586-ab61-7917b8c5f0ac",
   "metadata": {},
   "outputs": [
    {
     "name": "stdout",
     "output_type": "stream",
     "text": [
      "            Classifier  RF Accuracy  PCA Accuracy\n",
      "0  Logistic Regression     0.940741      0.950000\n",
      "1              RBF SVM     0.981481      0.977778\n",
      "2           Linear SVM     0.957407      0.951852\n"
     ]
    },
    {
     "data": {
      "image/png": "[encoded data removed]",
      "text/plain": [
       "<Figure size 1000x600 with 1 Axes>"
      ]
     },
     "metadata": {},
     "output_type": "display_data"
    }
   ],
   "source": [
    "classifiers = {\n",
    "    \"Logistic Regression\": LogisticRegression(max_iter=2000, random_state=42),\n",
    "    \"RBF SVM\": SVC(kernel='rbf', gamma='scale', random_state=42),\n",
    "    \"Linear SVM\": SVC(kernel='linear', random_state=42)\n",
    "}\n",
    "\n",
    "results = []\n",
    "\n",
    "for name, clf in classifiers.items():\n",
    "    # RF-based\n",
    "    clf.fit(X_train_rf, y_train)\n",
    "    acc_rf = clf.score(X_test_rf, y_test)\n",
    "\n",
    "    # PCA-based\n",
    "    clf.fit(X_train_pca, y_train)\n",
    "    acc_pca = clf.score(X_test_pca, y_test)\n",
    "\n",
    "    results.append({\n",
    "        \"Classifier\": name,\n",
    "        \"RF Accuracy\": acc_rf,\n",
    "        \"PCA Accuracy\": acc_pca\n",
    "    })\n",
    "\n",
    "# ---------- Display Results ----------\n",
    "df_results = pd.DataFrame(results)\n",
    "print(df_results)\n",
    "\n",
    "# ---------- Plot ----------\n",
    "df_results.set_index(\"Classifier\")[[\"RF Accuracy\", \"PCA Accuracy\"]].plot(kind='bar', figsize=(10, 6))\n",
    "plt.title(f\"Accuracy Comparison using Top {top_k} Features\")\n",
    "plt.ylabel(\"Accuracy\")\n",
    "plt.ylim(0, 1)\n",
    "plt.xticks(rotation=0)\n",
    "plt.grid(axis='y')\n",
    "plt.tight_layout()\n",
    "plt.show()"
   ]
  },
  {
   "cell_type": "markdown",
   "id": "914529c3-7d24-4e89-ac05-10e2ee9d8647",
   "metadata": {},
   "source": [
    "So , the least PCA dimension: top_k = 25, Random Forest Feature Selection,\n",
    "Classifier: SVC(kernel='rbf')\n",
    "### Parameter adjustment: optimize C and gamma ###"
   ]
  },
  {
   "cell_type": "markdown",
   "id": "c666eb6c-78d2-44d7-91a5-51cdf6a3f9a9",
   "metadata": {},
   "source": [
    "## Find out the parameters of model ##"
   ]
  },
  {
   "cell_type": "code",
   "execution_count": 7,
   "id": "12d1ee17-4d16-4b3d-b23a-a1c2b3ca16c6",
   "metadata": {},
   "outputs": [
    {
     "name": "stdout",
     "output_type": "stream",
     "text": [
      "Fitting 3 folds for each of 16 candidates, totalling 48 fits\n",
      "Best Parameters: {'clf__C': 1, 'clf__gamma': 0.1}\n",
      "Test Accuracy: 98.33%\n"
     ]
    }
   ],
   "source": [
    "# Building the pipeline\n",
    "pipe = Pipeline([\n",
    "    ('scaler', StandardScaler()),\n",
    "    ('clf', SVC(kernel='rbf'))\n",
    "])\n",
    "\n",
    "# Setting the parameter grid\n",
    "param_grid = {\n",
    "    'clf__C': [0.1, 1, 10, 100],\n",
    "    'clf__gamma': [0.001, 0.01, 0.1, 1]\n",
    "}\n",
    "\n",
    "# GridSearchCV\n",
    "grid = GridSearchCV(pipe, param_grid, cv=3, verbose=2, n_jobs=-1)\n",
    "grid.fit(X_train_rf, y_train)\n",
    "\n",
    "# Test set evaluation\n",
    "best_model = grid.best_estimator_\n",
    "y_pred = best_model.predict(X_test_rf)\n",
    "acc = accuracy_score(y_test, y_pred)\n",
    "\n",
    "print(\"Best Parameters:\", grid.best_params_)\n",
    "print(f\"Test Accuracy: {acc * 100:.2f}%\")"
   ]
  },
  {
   "cell_type": "markdown",
   "id": "ada80a3b-82b9-47ff-b729-7152e7b35a86",
   "metadata": {},
   "source": [
    "## Fine-tune the minimum features value ##"
   ]
  },
  {
   "cell_type": "code",
   "execution_count": 8,
   "id": "923a1736-c88e-447f-9444-6075f7bdc8b4",
   "metadata": {},
   "outputs": [
    {
     "name": "stdout",
     "output_type": "stream",
     "text": [
      "top_k = 15 → Test Accuracy = 95.56%\n",
      "top_k = 16 → Test Accuracy = 95.74%\n",
      "top_k = 17 → Test Accuracy = 95.93%\n",
      "top_k = 18 → Test Accuracy = 96.30%\n",
      "top_k = 19 → Test Accuracy = 97.41%\n",
      "top_k = 20 → Test Accuracy = 97.41%\n",
      "top_k = 21 → Test Accuracy = 97.59%\n",
      "top_k = 22 → Test Accuracy = 97.78%\n",
      "top_k = 23 → Test Accuracy = 98.15%\n",
      "top_k = 23 \n"
     ]
    }
   ],
   "source": [
    "topk_range = range(15, 25, 1)  # Integers from 15 to 25 in ascending order to test the number of\n",
    "for k in topk_range:\n",
    "    # Select the top k features\n",
    "    rf = RandomForestClassifier(n_estimators=100, random_state=42)\n",
    "    rf.fit(X_train, y_train)\n",
    "    importances = rf.feature_importances_\n",
    "    indices = np.argsort(importances)[::-1][:k]\n",
    "    \n",
    "    X_train_rf = X_train[:, indices]\n",
    "    X_test_rf = X_test[:, indices]\n",
    "\n",
    "    # Training with optimal parameters\n",
    "    pipe = Pipeline([\n",
    "        ('scaler', StandardScaler()),\n",
    "        ('clf', SVC(kernel='rbf', C=1, gamma=0.1, random_state=42))\n",
    "    ])\n",
    "    pipe.fit(X_train_rf, y_train)\n",
    "    acc = pipe.score(X_test_rf, y_test)\n",
    "\n",
    "    print(f\"top_k = {k} → Test Accuracy = {acc * 100:.2f}%\")\n",
    "    \n",
    "    if acc >= 0.98:\n",
    "        print(f\"top_k = {k} \")\n",
    "        break\n"
   ]
  },
  {
   "cell_type": "markdown",
   "id": "4d7c7bbe-cec0-429c-bea9-1cc8157e63c4",
   "metadata": {},
   "source": [
    "## conclusion ##\n",
    "\n",
    "So, the minimum number of features is 23, and the selection method is Random Forest Feature;\n",
    "\n",
    "and the model is RBF SVM;\n",
    "\n",
    "The parameters are: C=1, gamma=0.1"
   ]
  }
 ],
 "metadata": {
  "kernelspec": {
   "display_name": "Python (appliedm1)",
   "language": "python",
   "name": "appliedm1"
  },
  "language_info": {
   "codemirror_mode": {
    "name": "ipython",
    "version": 3
   },
   "file_extension": ".py",
   "mimetype": "text/x-python",
   "name": "python",
   "nbconvert_exporter": "python",
   "pygments_lexer": "ipython3",
   "version": "3.11.11"
  }
 },
 "nbformat": 4,
 "nbformat_minor": 5
}
