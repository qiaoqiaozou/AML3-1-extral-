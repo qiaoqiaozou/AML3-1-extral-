{
 "cells": [
  {
   "cell_type": "markdown",
   "id": "0b7f243b-0501-43ad-ac5c-f30a4eaffe1b",
   "metadata": {},
   "source": [
    "### Name: Qiaoqiao Zou ###"
   ]
  },
  {
   "cell_type": "markdown",
   "id": "22b208c2-7817-41b2-9bad-688d2cdde086",
   "metadata": {},
   "source": [
    "#----------------------------------Setting 2 (62.5%)------------------------------#"
   ]
  },
  {
   "cell_type": "code",
   "execution_count": 1,
   "id": "240ece6f-db77-4178-836d-fde5d2c22a60",
   "metadata": {},
   "outputs": [],
   "source": [
    "import numpy as np\n",
    "import pandas as pd\n",
    "import matplotlib.pyplot as plt\n",
    "import os\n",
    "import seaborn as sns\n",
    "\n",
    "from sklearn.datasets import fetch_20newsgroups\n",
    "from sklearn.feature_extraction.text import TfidfVectorizer\n",
    "from sklearn.datasets import load_wine\n",
    "from sklearn.ensemble import RandomForestClassifier\n",
    "from sklearn.linear_model import LogisticRegression\n",
    "from sklearn.svm import SVC\n",
    "from sklearn.model_selection import train_test_split\n",
    "from sklearn.preprocessing import StandardScaler\n",
    "from sklearn.pipeline import Pipeline\n",
    "from sklearn.decomposition import PCA\n",
    "from sklearn.metrics import accuracy_score\n",
    "from sklearn.feature_selection import SelectFromModel\n",
    "from sklearn.model_selection import GridSearchCV,train_test_split\n",
    "\n",
    "os.environ[\"OBJC_DISABLE_INITIALIZE_FORK_SAFETY\"] = \"YES\""
   ]
  },
  {
   "cell_type": "code",
   "execution_count": 2,
   "id": "6c237289-f516-4514-b931-935f66874600",
   "metadata": {},
   "outputs": [],
   "source": [
    "# Load dataset\n",
    "newsgroups = fetch_20newsgroups(subset='all', remove=('headers', 'footers', 'quotes'))\n",
    "vectorizer = TfidfVectorizer(max_features=2000, stop_words='english')\n",
    "X = vectorizer.fit_transform(newsgroups.data)  # Features (18846 samples, 2000 features each)\n",
    "y = newsgroups.target  # Labels (digits 0 to19)"
   ]
  },
  {
   "cell_type": "code",
   "execution_count": 3,
   "id": "69cbf017-06a8-46bc-b768-7e89863a90ec",
   "metadata": {},
   "outputs": [],
   "source": [
    "# Convert sparse to dense for PCA\n",
    "X_dense = X.toarray()"
   ]
  },
  {
   "cell_type": "code",
   "execution_count": 4,
   "id": "3cce35c3-87b4-4336-b14f-462351852aff",
   "metadata": {},
   "outputs": [],
   "source": [
    "# Split into training and test sets (e.g., 80% train, 20% test)\n",
    "X_train, X_test, y_train, y_test = train_test_split(X_dense, y, test_size=0.2, random_state=42, stratify=y)"
   ]
  },
  {
   "cell_type": "markdown",
   "id": "3ab2d90b-1d45-43c0-9d49-7ddabd1d884d",
   "metadata": {},
   "source": [
    "Goal for Setting 2: Building a machine learning pipeline with minimum number of features achieving more than 62.5% accuracy on test dataset using topics covered in the lecture so far. DO NOT CHANGE THE CODE ABOVE."
   ]
  },
  {
   "cell_type": "code",
   "execution_count": 5,
   "id": "5cc9577f-8172-4d3c-9c02-912856e0a433",
   "metadata": {},
   "outputs": [
    {
     "name": "stdout",
     "output_type": "stream",
     "text": [
      "X_train shape: (15076, 2000)\n",
      "y_train shape: (15076,)\n"
     ]
    }
   ],
   "source": [
    "# Check the shape of X_train\n",
    "print(\"X_train shape:\", X_train.shape)\n",
    "print(\"y_train shape:\", y_train.shape)"
   ]
  },
  {
   "cell_type": "code",
   "execution_count": 6,
   "id": "74c515e1-d380-49cf-9e70-4eaf8d7f97cf",
   "metadata": {},
   "outputs": [
    {
     "name": "stdout",
     "output_type": "stream",
     "text": [
      "Non-zero Ratio: 0.0166\n"
     ]
    }
   ],
   "source": [
    "# Check the proportion of non-zero elements (sparseness)\n",
    "nonzero_ratio = np.count_nonzero(X_train) / (X_train.shape[0] * X_train.shape[1])\n",
    "print(f\"Non-zero Ratio: {nonzero_ratio:.4f}\") "
   ]
  },
  {
   "cell_type": "code",
   "execution_count": 7,
   "id": "39ea6c05-e1a6-4d5d-8063-1dd38da05d0e",
   "metadata": {},
   "outputs": [
    {
     "data": {
      "image/png": "[encoded data removed]",
      "text/plain": [
       "<Figure size 800x400 with 1 Axes>"
      ]
     },
     "metadata": {},
     "output_type": "display_data"
    }
   ],
   "source": [
    "# View the eigenvalue distribution\n",
    "plt.figure(figsize=(8,4))\n",
    "sns.histplot(X_train.flatten(), bins=50, kde=True)\n",
    "plt.title(\"Distribution of feature values (TF-IDF)\")\n",
    "plt.xlabel(\"Feature value\")\n",
    "plt.ylabel(\"Count\")\n",
    "plt.show()"
   ]
  },
  {
   "cell_type": "code",
   "execution_count": 8,
   "id": "5d116b5a-8463-42d8-8a1e-20f8466fe40a",
   "metadata": {},
   "outputs": [
    {
     "name": "stdout",
     "output_type": "stream",
     "text": [
      "Label 0: 639 samples\n",
      "Label 1: 778 samples\n",
      "Label 2: 788 samples\n",
      "Label 3: 786 samples\n",
      "Label 4: 770 samples\n",
      "Label 5: 790 samples\n",
      "Label 6: 780 samples\n",
      "Label 7: 792 samples\n",
      "Label 8: 797 samples\n",
      "Label 9: 795 samples\n",
      "Label 10: 799 samples\n",
      "Label 11: 793 samples\n",
      "Label 12: 787 samples\n",
      "Label 13: 792 samples\n",
      "Label 14: 790 samples\n",
      "Label 15: 798 samples\n",
      "Label 16: 728 samples\n",
      "Label 17: 752 samples\n",
      "Label 18: 620 samples\n",
      "Label 19: 502 samples\n"
     ]
    }
   ],
   "source": [
    "# View category distribution\n",
    "unique, counts = np.unique(y_train, return_counts=True)\n",
    "for label, count in zip(unique, counts):\n",
    "    print(f\"Label {label}: {count} samples\")"
   ]
  },
  {
   "cell_type": "markdown",
   "id": "5ccae783-0f8f-4788-aca9-03bb2af5fc15",
   "metadata": {},
   "source": [
    "## Find the best selection and number of feartures ##"
   ]
  },
  {
   "cell_type": "code",
   "execution_count": 9,
   "id": "1d609e1a-d482-4b08-b230-3d5140643b66",
   "metadata": {},
   "outputs": [],
   "source": [
    "# Scale + PCA\n",
    "scaler = StandardScaler()\n",
    "X_train_scaled = scaler.fit_transform(X_train)\n",
    "X_test_scaled = scaler.transform(X_test)"
   ]
  },
  {
   "cell_type": "code",
   "execution_count": 12,
   "id": "5a6a1493-e0b0-436b-90b1-91b358d06c30",
   "metadata": {},
   "outputs": [
    {
     "name": "stdout",
     "output_type": "stream",
     "text": [
      "\n",
      "PCA components: 95\n",
      "Logistic Regression  Accuracy: 0.6056\n",
      "SVM (RBF)            Accuracy: 0.6239\n",
      "Random Forest        Accuracy: 0.5920\n",
      "Linear SVM           Accuracy: 0.5958\n",
      "\n",
      "PCA components: 96\n",
      "Logistic Regression  Accuracy: 0.6090\n",
      "SVM (RBF)            Accuracy: 0.6257\n",
      "Random Forest        Accuracy: 0.5931\n",
      "Linear SVM           Accuracy: 0.6024\n",
      "\n",
      "PCA components: 97\n",
      "Logistic Regression  Accuracy: 0.6090\n",
      "SVM (RBF)            Accuracy: 0.6255\n",
      "Random Forest        Accuracy: 0.6013\n",
      "Linear SVM           Accuracy: 0.5920\n",
      "\n",
      "PCA components: 98\n",
      "Logistic Regression  Accuracy: 0.6082\n",
      "SVM (RBF)            Accuracy: 0.6241\n",
      "Random Forest        Accuracy: 0.5934\n",
      "Linear SVM           Accuracy: 0.5963\n",
      "\n",
      "PCA components: 99\n",
      "Logistic Regression  Accuracy: 0.6167\n",
      "SVM (RBF)            Accuracy: 0.6300\n",
      "Random Forest        Accuracy: 0.5947\n",
      "Linear SVM           Accuracy: 0.6061\n",
      "\n",
      "PCA components: 100\n",
      "Logistic Regression  Accuracy: 0.6048\n",
      "SVM (RBF)            Accuracy: 0.6225\n",
      "Random Forest        Accuracy: 0.5960\n",
      "Linear SVM           Accuracy: 0.6008\n"
     ]
    }
   ],
   "source": [
    "classifiers = {\n",
    "    \"Logistic Regression\": LogisticRegression(max_iter=1000, random_state=42),\n",
    "    \"SVM (RBF)\": SVC(kernel='rbf', gamma='scale', random_state=42),\n",
    "    \"Random Forest\": RandomForestClassifier(n_estimators=100, random_state=42),\n",
    "    \"Linear SVM\": SVC(kernel='linear', random_state=42)\n",
    "}\n",
    "\n",
    "for k in [95,96, 97,98, 99, 100]:\n",
    "    print(f\"\\nPCA components: {k}\")\n",
    "    for name, clf in classifiers.items():\n",
    "        pipe = Pipeline([\n",
    "            ('scaler', StandardScaler()),\n",
    "            ('pca', PCA(n_components=k,random_state=42)),\n",
    "            ('clf', clf)\n",
    "        ])\n",
    "        pipe.fit(X_train, y_train)\n",
    "        acc = pipe.score(X_test, y_test)\n",
    "        print(f\"{name:<20} Accuracy: {acc:.4f}\")"
   ]
  },
  {
   "cell_type": "markdown",
   "id": "11ba4e9b-3cf0-4c45-8a3a-3eb85c984a32",
   "metadata": {},
   "source": [
    "\n",
    "So , the least PCA dimension: n_components = 99\n",
    "Classifier: SVC(kernel='rbf')\n",
    "### Parameter adjustment: optimize C and gamma ###"
   ]
  },
  {
   "cell_type": "markdown",
   "id": "9c6e7727-ab40-4093-88ab-fb11384ce09d",
   "metadata": {},
   "source": [
    "## Find out the parameters of model ##"
   ]
  },
  {
   "cell_type": "code",
   "execution_count": 13,
   "id": "e856eac7-8e51-486d-bcda-ee977de2b817",
   "metadata": {},
   "outputs": [
    {
     "name": "stdout",
     "output_type": "stream",
     "text": [
      "Best Parameters: {'clf__C': 1, 'clf__gamma': 0.01}\n",
      "Test Accuracy: 62.94%\n"
     ]
    }
   ],
   "source": [
    "# Building the pipeline\n",
    "pipe = Pipeline([\n",
    "    ('scaler', StandardScaler()),\n",
    "    ('pca', PCA(n_components=99)),\n",
    "    ('clf', SVC(kernel='rbf'))\n",
    "])\n",
    "\n",
    "# Set the parameter search scope\n",
    "param_grid = {\n",
    "    'clf__C': [0.1, 1, 10, 100],\n",
    "    'clf__gamma': [0.001, 0.01, 0.1, 1]\n",
    "}\n",
    "\n",
    "# Executing GridSearchCV\n",
    "grid = GridSearchCV(pipe, param_grid, cv=3, verbose=0, n_jobs=1)\n",
    "grid.fit(X_train, y_train)\n",
    "\n",
    "# Evaluate on the test set\n",
    "best_model = grid.best_estimator_\n",
    "y_pred = best_model.predict(X_test)\n",
    "acc = accuracy_score(y_test, y_pred)\n",
    "\n",
    "print(\"Best Parameters:\", grid.best_params_)\n",
    "print(f\"Test Accuracy: {acc * 100:.2f}%\")"
   ]
  },
  {
   "cell_type": "markdown",
   "id": "a465feaa-16b8-448d-a711-9d5c0f2253fe",
   "metadata": {},
   "source": [
    "we still need to find the least number of feartures."
   ]
  },
  {
   "cell_type": "markdown",
   "id": "8e9938d3-fbd6-4484-8da4-6e505901247a",
   "metadata": {},
   "source": [
    "## Fine-tune the minimum features value ##"
   ]
  },
  {
   "cell_type": "code",
   "execution_count": 16,
   "id": "69464a5c-ade7-4925-a9ab-af752051ae28",
   "metadata": {},
   "outputs": [
    {
     "name": "stdout",
     "output_type": "stream",
     "text": [
      "PCA components =  65 → Test Accuracy = 61.86%\n",
      "PCA components =  66 → Test Accuracy = 62.39%\n",
      "PCA components =  67 → Test Accuracy = 61.46%\n",
      "PCA components =  68 → Test Accuracy = 62.25%\n",
      "PCA components =  69 → Test Accuracy = 62.28%\n",
      "PCA components =  70 → Test Accuracy = 62.49%\n",
      "PCA components =  71 → Test Accuracy = 62.81%\n",
      "Found smaller PCA dimension 71 is the minimum number of features to reach 62.5%!\n"
     ]
    }
   ],
   "source": [
    "components_to_test = range(65, 99, 1)  # 从 65 到 99 \n",
    "\n",
    "for k in components_to_test:\n",
    "    pipe = Pipeline([\n",
    "        ('scaler', StandardScaler()),\n",
    "        ('pca', PCA(n_components=k, random_state=42)),\n",
    "        ('clf', SVC(C=1, gamma=0.01, random_state=42))\n",
    "    ])\n",
    "    pipe.fit(X_train, y_train)\n",
    "    acc = pipe.score(X_test, y_test)\n",
    "    print(f\"PCA components = {k:3d} → Test Accuracy = {acc * 100:.2f}%\")\n",
    "    \n",
    "    if acc >= 0.625:\n",
    "        print(f\"Found smaller PCA dimension {k} is the minimum number of features to reach 62.5%!\")\n",
    "        break"
   ]
  },
  {
   "cell_type": "markdown",
   "id": "16d8ffe1-e6d3-4574-bbc7-f58858e9a115",
   "metadata": {},
   "source": [
    "##  conclusion ##\n",
    "\n",
    "So, the minimum number of features is 71, the selection method is PCA;\n",
    "\n",
    "and the model is RBF SVM;\n",
    "\n",
    "The parameters are: C =1, gamma = 0.01."
   ]
  }
 ],
 "metadata": {
  "kernelspec": {
   "display_name": "Python (appliedm1)",
   "language": "python",
   "name": "appliedm1"
  },
  "language_info": {
   "codemirror_mode": {
    "name": "ipython",
    "version": 3
   },
   "file_extension": ".py",
   "mimetype": "text/x-python",
   "name": "python",
   "nbconvert_exporter": "python",
   "pygments_lexer": "ipython3",
   "version": "3.11.11"
  }
 },
 "nbformat": 4,
 "nbformat_minor": 5
}
